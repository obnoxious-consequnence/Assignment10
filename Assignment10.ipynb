{
 "cells": [
  {
   "cell_type": "markdown",
   "metadata": {},
   "source": [
    "# Assignment 10 - OpenCV\n",
    "This assignment revoles around working with; Feature Engineering, Machine Learning and Model Validation\n",
    "\n",
    "## Obnoxious Consequence\n",
    "- Martin Snedvig Rasmussen\n",
    "- Michael Ejdal Lundsgaard\n",
    "- Morten Bokkenheuser-Bæhr\n",
    "- Simon Kepp Stennicke\n",
    "\n",
    "# Exercise - Polygons\n",
    "\n",
    "Count the number of corners in a black and white figure.\n",
    "\n",
    "* [Triangle](https://encrypted-tbn0.gstatic.com/images?q=tbn:ANd9GcQ4Tf0_mwmTo7d_AyFGP_TAgkZF_huAfIDNcgKF0WHqvrg5ewyx)\n",
    "* [Square](https://encrypted-tbn0.gstatic.com/images?q=tbn:ANd9GcRif8vMomA-yAO8tr4WIcdr6YJbyMRlonXNJGlN5eqfe0kgQ0NM)\n",
    "* [Pentagon](https://dejpknyizje2n.cloudfront.net/svgcustom/clipart/preview/pentagon-shape-2628-13890-300x300.png)\n",
    "\n",
    "*note: we did have to find some other sources of these shape, since some of them appeard as a \"NoneType\"\n",
    "\n",
    "## Count\n",
    "\n",
    "Create a python script that can count the number of corners in a figure, when provided the filename to the image. The filename should be provided as a command-argument.\n",
    "\n",
    "Extra points for using [argparse](https://docs.python.org/2/library/argparse.html).\n",
    "\n",
    "The number of corners should be written to stdout.\n",
    "\n",
    "## Mark\n",
    "\n",
    "Create a new python script that can mark the corners in a figure, when provided the filename to the image. The script should also be provided a destination to the output image.\n",
    "\n",
    "Mark the detected corners with a red dot.\n",
    "\n",
    "Save the image to the provided destination path."
   ]
  },
  {
   "cell_type": "markdown",
   "metadata": {},
   "source": [
    "# Solutions\n",
    "\n",
    "### Path to images\n",
    "\n",
    "- ./img/pentagon-shape.png\n",
    "- ./img/square-shape.png\n",
    "- ./img/triangle-shape.png\n",
    "\n",
    "## Count\n",
    "\n",
    "```python\n",
    "import cv2 \n",
    "import numpy as np\n",
    "import argparse\n",
    "\n",
    "parser = argparse.ArgumentParser(description='Corner Detector')\n",
    "parser.add_argument('--input', help='Path to input image.')\n",
    "args = parser.parse_args()\n",
    "\n",
    "filename = args.input\n",
    "\n",
    "img = cv2.imread(filename)\n",
    "gray = cv2.cvtColor(img, cv2.COLOR_BGR2GRAY)\n",
    "\n",
    "corners = cv2.goodFeaturesToTrack(gray, 27, 0.1, 10)\n",
    "\n",
    "print(corners.shape[0], 'corners in ', filename)\n",
    "```"
   ]
  },
  {
   "cell_type": "code",
   "execution_count": 31,
   "metadata": {},
   "outputs": [
    {
     "name": "stdout",
     "output_type": "stream",
     "text": [
      "4 corners in  ./img/square-shape.png\n"
     ]
    }
   ],
   "source": [
    "!python countCorners.py --input ./img/square-shape.png"
   ]
  },
  {
   "cell_type": "markdown",
   "metadata": {},
   "source": [
    "## Mark\n",
    "\n",
    "```python\n",
    "import cv2 \n",
    "import numpy as np\n",
    "import argparse\n",
    "\n",
    "parser = argparse.ArgumentParser(description='Corner Detector')\n",
    "parser.add_argument('-i', '--input', help='Path to input image.')\n",
    "parser.add_argument('-fname', '--filename', help='The name of the new file, with counted corners')\n",
    "args = parser.parse_args()\n",
    "\n",
    "image = args.input\n",
    "filename = args.filename\n",
    "\n",
    "img = cv2.imread(image)\n",
    "gray = cv2.cvtColor(img, cv2.COLOR_BGR2GRAY)\n",
    "\n",
    "corners = cv2.goodFeaturesToTrack(gray, 27, 0.1, 10)\n",
    "corners = np.int0(corners)\n",
    "\n",
    "for corner in corners:\n",
    "    x, y = corner.ravel()\n",
    "    cv2.circle(img, (x,y), 5, (0, 0, 225), -1)\n",
    "\n",
    "cv2.imshow('img', img)\n",
    "cv2.imwrite('./data/' + filename + '.png', img)\n",
    "cv2.waitKey(0)\n",
    "cv2.destroyAllWindows()\n",
    "```"
   ]
  },
  {
   "cell_type": "code",
   "execution_count": 35,
   "metadata": {},
   "outputs": [],
   "source": [
    "!python markCorners.py -i ./img/pentagon-shape.png -fname pentagon_counted"
   ]
  },
  {
   "cell_type": "code",
   "execution_count": 64,
   "metadata": {},
   "outputs": [
    {
     "name": "stdout",
     "output_type": "stream",
     "text": [
      "C:\\Users\\User\\Desktop\\CPHBusiness\\Python\\Assignments\\Assignment10\\data\n"
     ]
    }
   ],
   "source": [
    "cd data"
   ]
  },
  {
   "cell_type": "code",
   "execution_count": 66,
   "metadata": {},
   "outputs": [
    {
     "name": "stdout",
     "output_type": "stream",
     "text": [
      "pentagon_counted.png\n",
      "square_counted.png\n",
      "triangle_counted.png\n"
     ]
    }
   ],
   "source": [
    "!ls"
   ]
  }
 ],
 "metadata": {
  "kernelspec": {
   "display_name": "Python 3",
   "language": "python",
   "name": "python3"
  },
  "language_info": {
   "codemirror_mode": {
    "name": "ipython",
    "version": 3
   },
   "file_extension": ".py",
   "mimetype": "text/x-python",
   "name": "python",
   "nbconvert_exporter": "python",
   "pygments_lexer": "ipython3",
   "version": "3.7.1"
  }
 },
 "nbformat": 4,
 "nbformat_minor": 2
}
